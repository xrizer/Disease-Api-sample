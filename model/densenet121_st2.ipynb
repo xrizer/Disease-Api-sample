{
  "cells": [
    {
      "cell_type": "code",
      "execution_count": 15,
      "metadata": {
        "id": "-R5uJoGyMnN-"
      },
      "outputs": [],
      "source": [
        "from tensorflow.keras.layers import Input, Layer, ReLU, Conv2D, MaxPooling2D, GlobalAveragePooling2D, Dense, Add, Concatenate, Dropout\n",
        "from tensorflow.keras.models import Model\n",
        "from tensorflow.keras.applications import DenseNet121\n",
        "from tensorflow.keras.applications.vgg16 import VGG16\n",
        "from tensorflow.keras.applications.vgg16 import preprocess_input\n",
        "from tensorflow.keras.preprocessing import image\n",
        "from tensorflow.keras.preprocessing.image import ImageDataGenerator\n",
        "from tensorflow.keras.models import Sequential\n",
        "from tensorflow.keras.callbacks import EarlyStopping\n",
        "from sklearn.metrics import accuracy_score,classification_report,confusion_matrix,ConfusionMatrixDisplay\n",
        "from tensorflow.keras.applications.densenet import preprocess_input\n",
        "from tensorflow.keras.optimizers import Adam\n",
        "from tensorflow.keras.callbacks import ModelCheckpoint, ReduceLROnPlateau\n",
        "\n",
        "\n",
        "import numpy as np\n",
        "import pandas as pd\n",
        "import os\n",
        "import cv2\n",
        "import matplotlib.pyplot as plt\n",
        "\n",
        "\n"
      ]
    },
    {
      "cell_type": "code",
      "execution_count": 2,
      "metadata": {
        "id": "xu1PGsnDMnOA"
      },
      "outputs": [],
      "source": [
        "import tensorflow as tf\n",
        "from tensorflow import lite"
      ]
    },
    {
      "cell_type": "markdown",
      "metadata": {
        "id": "eKyWR4zcVvu_"
      },
      "source": [
        "# Connect to Google drive"
      ]
    },
    {
      "cell_type": "code",
      "execution_count": 12,
      "metadata": {
        "colab": {
          "base_uri": "https://localhost:8080/"
        },
        "id": "_8jUXIiKMt6T",
        "outputId": "f7e15fe2-6b7c-45c2-90a4-a75c1ac86761"
      },
      "outputs": [],
      "source": [
        "# from google.colab import drive\n",
        "# drive.mount('/content/drive')"
      ]
    },
    {
      "cell_type": "markdown",
      "metadata": {
        "id": "QfgE-d8CMnOA"
      },
      "source": [
        "# Pre-processing of the images\n",
        "\n",
        "While resizing the images, let us also derive x_train,x_test,x_val,y_train,y_test and y_val hand-in-hand. These terms can be described in a nutshell as follows:\n",
        "\n",
        "- **x_train**: Numpy arrays of the images of the training dataset\n",
        "- **y_train**: Labels of the training dataset\n",
        "- **x_test**: Numpy arrays of the images of the testing dataset\n",
        "- **y_test**: Labels of the testing dataset\n",
        "- **x_val**: Numpy arrays of the images of the validation dataset\n",
        "- **y_val**: Labels of the validation dataset"
      ]
    },
    {
      "cell_type": "code",
      "execution_count": 5,
      "metadata": {
        "id": "kl2mIM3fMnOC"
      },
      "outputs": [],
      "source": [
        "# /content/drive/MyDrive/Capstone Co-ffee/swatdcnn/data/Augmented/stage_2/train\n",
        "# /content/drive/MyDrive/Capstone Co-ffee/swatdcnn/test/stage-2/test\n",
        "\n",
        "train_path=\"swatdcnn/data/Augmented/stage_2/train\"\n",
        "test_path=\"swatdcnn/test/stage-2/test\"\n",
        "val_path=\"swatdcnn/data/Augmented/stage_2/validation\""
      ]
    },
    {
      "cell_type": "code",
      "execution_count": 6,
      "metadata": {
        "id": "UrOCFfEcMnOC"
      },
      "outputs": [],
      "source": [
        "IMG_SIZE = (224,224)\n",
        "\n",
        "# def pre_proc_images(file_path):\n",
        "#     file_list=[]\n",
        "#     for folder in os.listdir(file_path):\n",
        "#         sub_path=file_path+\"/\"+folder\n",
        "#         for img in os.listdir(sub_path):\n",
        "#             image_path=sub_path+\"/\"+img\n",
        "#             img_arr=cv2.imread(image_path)\n",
        "#             img_arr=cv2.resize(img_arr,IMG_SIZE)\n",
        "#             file_list.append(img_arr)\n",
        "#     norm_file = np.array(file_list)/255.0\n",
        "#     return norm_file\n",
        "\n",
        "def ImgDataGen(file_path,f=False):    \n",
        "    file_datagen = ImageDataGenerator(preprocessing_function=preprocess_input)\n",
        "    file_set = file_datagen.flow_from_directory(file_path,\n",
        "                                                target_size = IMG_SIZE,\n",
        "                                                batch_size = 16,\n",
        "                                                class_mode = 'categorical',\n",
        "                                                shuffle = f)\n",
        "    return file_set\n"
      ]
    },
    {
      "cell_type": "code",
      "execution_count": 16,
      "metadata": {
        "colab": {
          "base_uri": "https://localhost:8080/"
        },
        "id": "rBv2XqjmMnOD",
        "outputId": "89cdfe76-17ed-4fb3-d2a7-489ae6cdd33a"
      },
      "outputs": [
        {
          "name": "stdout",
          "output_type": "stream",
          "text": [
            "Found 6000 images belonging to 3 classes.\n",
            "Found 311 images belonging to 3 classes.\n",
            "Found 625 images belonging to 3 classes.\n"
          ]
        }
      ],
      "source": [
        "# train_x, test_x, val_x = pre_proc_images(train_path), pre_proc_images(test_path), pre_proc_images(val_path)\n",
        "training_set, test_set, val_set = ImgDataGen(train_path, f=True), ImgDataGen(test_path), ImgDataGen(val_path)\n"
      ]
    },
    {
      "cell_type": "code",
      "execution_count": 17,
      "metadata": {},
      "outputs": [],
      "source": [
        "nb_train_samples = len(training_set.filenames)\n",
        "nb_validation_samples = len(val_set.filenames)\n",
        "\n"
      ]
    },
    {
      "cell_type": "code",
      "execution_count": 18,
      "metadata": {
        "colab": {
          "base_uri": "https://localhost:8080/"
        },
        "id": "AUn6GabLfmgf",
        "outputId": "90743282-4b58-439b-f4ed-f89320bcecf3"
      },
      "outputs": [],
      "source": [
        "# train_y, test_y, val_y = training_set.classes, test_set.classes, val_set.classes\n",
        "# train_y.shape,test_y.shape,val_y.shape\n",
        "# train_x.shape,test_x.shape,val_x.shape\n",
        "training_set.class_indices\n",
        "labels = [i for i in training_set.class_indices]\n"
      ]
    },
    {
      "cell_type": "code",
      "execution_count": 19,
      "metadata": {},
      "outputs": [
        {
          "name": "stdout",
          "output_type": "stream",
          "text": [
            "['0_Rust', '1_Brown_Spots', '2_Sooty_Molds']\n"
          ]
        }
      ],
      "source": [
        "print(labels)"
      ]
    },
    {
      "cell_type": "markdown",
      "metadata": {
        "id": "4njNbSBpVXTX"
      },
      "source": [
        "# Training using VGG16"
      ]
    },
    {
      "cell_type": "code",
      "execution_count": 20,
      "metadata": {
        "id": "VZsu3PxSWPLh"
      },
      "outputs": [],
      "source": [
        "def my_model():\n",
        "    densenet = DenseNet121(input_shape=[224,224]+[3], weights='imagenet', include_top=False)\n",
        "    for layer in densenet.layers:layer.trainable = False\n",
        "    # our layers - you can add more if you want\n",
        "    y = GlobalAveragePooling2D()(densenet.output)\n",
        "    y = Dense(512, activation='relu', use_bias=True)(y)\n",
        "    y = Dropout(0.5)(y)\n",
        "    prediction = Dense(3,activation='softmax')(y)\n",
        "    model = Model(inputs=densenet.input, outputs=prediction)\n",
        "    # tell the model what cost and optimization method to use\n",
        "    return model"
      ]
    },
    {
      "cell_type": "code",
      "execution_count": 21,
      "metadata": {
        "colab": {
          "base_uri": "https://localhost:8080/"
        },
        "id": "FQbjeBnVobsr",
        "outputId": "04761b23-bbb6-4db8-ba61-992ed34299ae"
      },
      "outputs": [],
      "source": [
        "model = my_model()\n",
        "# model.summary()"
      ]
    },
    {
      "cell_type": "code",
      "execution_count": 22,
      "metadata": {
        "colab": {
          "base_uri": "https://localhost:8080/"
        },
        "id": "g9DpfHCBMnOI",
        "outputId": "041a957e-c45b-4218-8cff-32eccae12abb"
      },
      "outputs": [
        {
          "name": "stdout",
          "output_type": "stream",
          "text": [
            "Epoch 1/25\n",
            "375/375 [==============================] - 431s 1s/step - loss: 0.4845 - accuracy: 0.7897 - val_loss: 0.2377 - val_accuracy: 0.9022 - lr: 1.0000e-04\n",
            "Epoch 2/25\n",
            "375/375 [==============================] - 357s 951ms/step - loss: 0.2698 - accuracy: 0.8873 - val_loss: 0.2037 - val_accuracy: 0.9215 - lr: 1.0000e-04\n",
            "Epoch 3/25\n",
            "375/375 [==============================] - 349s 930ms/step - loss: 0.2112 - accuracy: 0.9130 - val_loss: 0.1924 - val_accuracy: 0.9263 - lr: 1.0000e-04\n",
            "Epoch 4/25\n",
            "375/375 [==============================] - 351s 936ms/step - loss: 0.1920 - accuracy: 0.9183 - val_loss: 0.1852 - val_accuracy: 0.9199 - lr: 1.0000e-04\n",
            "Epoch 5/25\n",
            "375/375 [==============================] - 363s 967ms/step - loss: 0.1715 - accuracy: 0.9275 - val_loss: 0.1803 - val_accuracy: 0.9295 - lr: 1.0000e-04\n",
            "Epoch 6/25\n",
            "375/375 [==============================] - 389s 1s/step - loss: 0.1560 - accuracy: 0.9318 - val_loss: 0.1720 - val_accuracy: 0.9231 - lr: 1.0000e-04\n",
            "Epoch 7/25\n",
            "375/375 [==============================] - ETA: 0s - loss: 0.1454 - accuracy: 0.9400\n",
            "Epoch 7: ReduceLROnPlateau reducing learning rate to 4.999999873689376e-05.\n",
            "375/375 [==============================] - 361s 963ms/step - loss: 0.1454 - accuracy: 0.9400 - val_loss: 0.1731 - val_accuracy: 0.9263 - lr: 1.0000e-04\n",
            "Epoch 8/25\n",
            "375/375 [==============================] - 362s 965ms/step - loss: 0.1326 - accuracy: 0.9438 - val_loss: 0.1713 - val_accuracy: 0.9247 - lr: 5.0000e-05\n",
            "Epoch 9/25\n",
            "375/375 [==============================] - 359s 958ms/step - loss: 0.1303 - accuracy: 0.9455 - val_loss: 0.1678 - val_accuracy: 0.9311 - lr: 5.0000e-05\n",
            "Epoch 10/25\n",
            "375/375 [==============================] - 355s 946ms/step - loss: 0.1212 - accuracy: 0.9515 - val_loss: 0.1648 - val_accuracy: 0.9311 - lr: 5.0000e-05\n",
            "Epoch 11/25\n",
            "375/375 [==============================] - ETA: 0s - loss: 0.1145 - accuracy: 0.9522\n",
            "Epoch 11: ReduceLROnPlateau reducing learning rate to 2.499999936844688e-05.\n",
            "375/375 [==============================] - 364s 971ms/step - loss: 0.1145 - accuracy: 0.9522 - val_loss: 0.1716 - val_accuracy: 0.9263 - lr: 5.0000e-05\n",
            "Epoch 12/25\n",
            "375/375 [==============================] - 364s 970ms/step - loss: 0.1148 - accuracy: 0.9522 - val_loss: 0.1646 - val_accuracy: 0.9311 - lr: 2.5000e-05\n",
            "Epoch 13/25\n",
            "375/375 [==============================] - ETA: 0s - loss: 0.1085 - accuracy: 0.9557\n",
            "Epoch 13: ReduceLROnPlateau reducing learning rate to 1.249999968422344e-05.\n",
            "375/375 [==============================] - 353s 942ms/step - loss: 0.1085 - accuracy: 0.9557 - val_loss: 0.1643 - val_accuracy: 0.9311 - lr: 2.5000e-05\n",
            "Epoch 14/25\n",
            "375/375 [==============================] - 352s 939ms/step - loss: 0.1059 - accuracy: 0.9563 - val_loss: 0.1648 - val_accuracy: 0.9247 - lr: 1.2500e-05\n",
            "Epoch 15/25\n",
            "375/375 [==============================] - ETA: 0s - loss: 0.1048 - accuracy: 0.9590\n",
            "Epoch 15: ReduceLROnPlateau reducing learning rate to 6.24999984211172e-06.\n",
            "375/375 [==============================] - 354s 944ms/step - loss: 0.1048 - accuracy: 0.9590 - val_loss: 0.1649 - val_accuracy: 0.9311 - lr: 1.2500e-05\n",
            "Epoch 16/25\n",
            "375/375 [==============================] - 354s 944ms/step - loss: 0.1041 - accuracy: 0.9600 - val_loss: 0.1645 - val_accuracy: 0.9327 - lr: 6.2500e-06\n",
            "Epoch 17/25\n",
            "375/375 [==============================] - 354s 944ms/step - loss: 0.1028 - accuracy: 0.9598 - val_loss: 0.1648 - val_accuracy: 0.9343 - lr: 6.2500e-06\n",
            "Epoch 18/25\n",
            "375/375 [==============================] - 354s 943ms/step - loss: 0.1007 - accuracy: 0.9608 - val_loss: 0.1654 - val_accuracy: 0.9343 - lr: 6.2500e-06\n",
            "Epoch 19/25\n",
            "375/375 [==============================] - ETA: 0s - loss: 0.1047 - accuracy: 0.9567\n",
            "Epoch 19: ReduceLROnPlateau reducing learning rate to 3.12499992105586e-06.\n",
            "375/375 [==============================] - 354s 945ms/step - loss: 0.1047 - accuracy: 0.9567 - val_loss: 0.1650 - val_accuracy: 0.9327 - lr: 6.2500e-06\n",
            "Epoch 20/25\n",
            "375/375 [==============================] - 353s 941ms/step - loss: 0.1015 - accuracy: 0.9613 - val_loss: 0.1643 - val_accuracy: 0.9295 - lr: 3.1250e-06\n",
            "Epoch 21/25\n",
            "375/375 [==============================] - ETA: 0s - loss: 0.0977 - accuracy: 0.9622\n",
            "Epoch 21: ReduceLROnPlateau reducing learning rate to 1.56249996052793e-06.\n",
            "375/375 [==============================] - 359s 956ms/step - loss: 0.0977 - accuracy: 0.9622 - val_loss: 0.1646 - val_accuracy: 0.9311 - lr: 3.1250e-06\n",
            "Epoch 22/25\n",
            "375/375 [==============================] - 370s 985ms/step - loss: 0.1018 - accuracy: 0.9602 - val_loss: 0.1645 - val_accuracy: 0.9343 - lr: 1.5625e-06\n",
            "Epoch 23/25\n",
            "375/375 [==============================] - ETA: 0s - loss: 0.0999 - accuracy: 0.9612\n",
            "Epoch 23: ReduceLROnPlateau reducing learning rate to 1e-06.\n",
            "375/375 [==============================] - 382s 1s/step - loss: 0.0999 - accuracy: 0.9612 - val_loss: 0.1645 - val_accuracy: 0.9311 - lr: 1.5625e-06\n",
            "Epoch 24/25\n",
            "375/375 [==============================] - 375s 998ms/step - loss: 0.1003 - accuracy: 0.9612 - val_loss: 0.1644 - val_accuracy: 0.9311 - lr: 1.0000e-06\n",
            "Epoch 25/25\n",
            "375/375 [==============================] - 382s 1s/step - loss: 0.0985 - accuracy: 0.9623 - val_loss: 0.1645 - val_accuracy: 0.9311 - lr: 1.0000e-06\n"
          ]
        },
        {
          "data": {
            "text/plain": [
              "'02:31:41'"
            ]
          },
          "execution_count": 22,
          "metadata": {},
          "output_type": "execute_result"
        }
      ],
      "source": [
        "#MODEL COMPILATION WITH HYPER-PARAMETERS, LOSS FUNCTIONS AND TRAINING!\n",
        "import time\n",
        "\n",
        "batch_size = 16\n",
        "\n",
        "epochs = 25\n",
        "\n",
        "start_time = time.time()\n",
        "\n",
        "optimizer = Adam(learning_rate=0.0001)\n",
        "\n",
        "model.compile(\n",
        "    optimizer=optimizer, \n",
        "    loss='categorical_crossentropy', \n",
        "    metrics=['accuracy']\n",
        ") \n",
        "\n",
        "reduce_lr = ReduceLROnPlateau(\n",
        "    monitor='val_accuracy', \n",
        "    factor=0.5, \n",
        "    patience=2,                          \n",
        "    verbose=1, \n",
        "    mode='max', \n",
        "    min_lr=0.000001\n",
        ")\n",
        "\n",
        "callbacks = [reduce_lr]\n",
        "\n",
        "history = model.fit(\n",
        "    training_set,\n",
        "    epochs=epochs, \n",
        "    steps_per_epoch=nb_train_samples // batch_size,\n",
        "    validation_data=val_set,\n",
        "    callbacks=callbacks, \n",
        "    validation_steps=nb_validation_samples // batch_size, \n",
        "    verbose=1\n",
        ")\n",
        "\n",
        "elapsed_time = time.time() - start_time\n",
        "time.strftime(\"%H:%M:%S\", time.gmtime(elapsed_time))\n",
        "\n",
        "\n",
        "\n"
      ]
    },
    {
      "cell_type": "markdown",
      "metadata": {
        "id": "HwhvBE78WPLi"
      },
      "source": [
        "# Reporting "
      ]
    },
    {
      "cell_type": "code",
      "execution_count": 23,
      "metadata": {
        "id": "kGsmmymGWPLi"
      },
      "outputs": [
        {
          "data": {
            "image/png": "[encoded data removed]",
            "text/plain": [
              "<Figure size 432x288 with 1 Axes>"
            ]
          },
          "metadata": {
            "needs_background": "light"
          },
          "output_type": "display_data"
        },
        {
          "data": {
            "image/png": "[encoded data removed]",
            "text/plain": [
              "<Figure size 432x288 with 1 Axes>"
            ]
          },
          "metadata": {
            "needs_background": "light"
          },
          "output_type": "display_data"
        }
      ],
      "source": [
        "def report_train(history):\n",
        "    # loss\n",
        "    plt.plot(history.history['loss'], label='train loss')\n",
        "    plt.plot(history.history['val_loss'], label='val loss')\n",
        "    plt.legend()\n",
        "    plt.savefig('vgg-loss-rps-1.png')\n",
        "    plt.show()\n",
        "    # accuracies\n",
        "    plt.plot(history.history['accuracy'], label='train acc')\n",
        "    plt.plot(history.history['val_accuracy'], label='val acc')\n",
        "    plt.legend()\n",
        "    plt.savefig('vgg-acc-rps-1.png')\n",
        "    plt.show()\n",
        "\n",
        "report_train(history)"
      ]
    },
    {
      "cell_type": "markdown",
      "metadata": {
        "id": "EmWfe5MMWPLj"
      },
      "source": [
        "Report Test"
      ]
    },
    {
      "cell_type": "code",
      "execution_count": 24,
      "metadata": {
        "id": "yKKChwaqWPLj"
      },
      "outputs": [
        {
          "name": "stdout",
          "output_type": "stream",
          "text": [
            "20/20 [==============================] - 31s 2s/step - loss: 0.1608 - accuracy: 0.9325\n",
            "              precision    recall  f1-score   support\n",
            "\n",
            "           0       0.92      0.92      0.92       132\n",
            "           1       0.89      0.88      0.88        88\n",
            "           2       1.00      1.00      1.00        91\n",
            "\n",
            "    accuracy                           0.93       311\n",
            "   macro avg       0.93      0.93      0.93       311\n",
            "weighted avg       0.93      0.93      0.93       311\n",
            "\n"
          ]
        },
        {
          "data": {
            "image/png": "[encoded data removed]",
            "text/plain": [
              "<Figure size 432x288 with 2 Axes>"
            ]
          },
          "metadata": {
            "needs_background": "light"
          },
          "output_type": "display_data"
        }
      ],
      "source": [
        "def report_test(test_set,model=model):\n",
        "    \n",
        "    # evaluating test\n",
        "    model.evaluate(test_set,batch_size=32)\n",
        "    y_pred=model.predict(test_set)\n",
        "    y_pred=np.argmax(y_pred,axis=1)\n",
        "    accuracy_score(y_pred,test_set.classes)\n",
        "    print(classification_report(y_pred,test_set.classes))\n",
        "    \n",
        "    # confusion_matrix\n",
        "    labels = [i for i in training_set.class_indices]\n",
        "    cm =confusion_matrix(y_pred, test_set.classes)\n",
        "    disp = ConfusionMatrixDisplay(cm,display_labels=labels)\n",
        "    disp.plot(cmap='Blues',xticks_rotation='vertical')\n",
        "    plt.show()\n",
        "\n",
        "report_test(test_set)"
      ]
    },
    {
      "cell_type": "markdown",
      "metadata": {
        "id": "9Q7LoteSMnOL"
      },
      "source": [
        "# Export the Model"
      ]
    },
    {
      "cell_type": "markdown",
      "metadata": {
        "id": "BWtFwGzEHMRF"
      },
      "source": [
        "Save model"
      ]
    },
    {
      "cell_type": "code",
      "execution_count": 25,
      "metadata": {
        "id": "yQTxJdmoMnOL"
      },
      "outputs": [],
      "source": [
        "file_model = \"weights/model2.h5\"\n",
        "file_weights = \"model2_W.h5\"\n",
        "tf.keras.models.save_model(model,file_model)\n",
        "# tf.keras.models.save_weights(model,file_weights)"
      ]
    },
    {
      "cell_type": "markdown",
      "metadata": {
        "id": "34C9D2WVHI3c"
      },
      "source": [
        "Save history"
      ]
    },
    {
      "cell_type": "code",
      "execution_count": 26,
      "metadata": {
        "id": "ZgNTaI-0G9o1"
      },
      "outputs": [],
      "source": [
        "# convert the history.history dict to a pandas DataFrame:     \n",
        "hist_df = pd.DataFrame(history.history) \n",
        "path = 'history/'\n",
        "# save to json:  \n",
        "hist_json_file = 'history2.json' \n",
        "with open(path+hist_json_file, mode='w') as f:\n",
        "    hist_df.to_json(f)\n",
        "\n",
        "# or save to csv: \n",
        "hist_csv_file = 'history2.csv'\n",
        "with open(path+hist_csv_file, mode='w') as f:\n",
        "    hist_df.to_csv(f)"
      ]
    },
    {
      "cell_type": "markdown",
      "metadata": {
        "id": "HFFDF1pD1GPx"
      },
      "source": [
        "save to google drive"
      ]
    },
    {
      "cell_type": "code",
      "execution_count": null,
      "metadata": {
        "id": "QQCRiy2_1JB5"
      },
      "outputs": [],
      "source": [
        "save_path = \"./drive/MyDrive/Capstone Co-ffee/\"\n",
        "!cp -r './Augmented_VGG16.h5' save_path\n",
        "!cp -r './Augmented_VGG16.tflite' save_path"
      ]
    }
  ],
  "metadata": {
    "accelerator": "GPU",
    "colab": {
      "collapsed_sections": [],
      "name": "Augmented_VGG16.ipynb",
      "provenance": []
    },
    "interpreter": {
      "hash": "f86d353589da63107fa41935c647b090130dd82e36124730776efe65677d465c"
    },
    "kernelspec": {
      "display_name": "Python 3.10.2 64-bit",
      "language": "python",
      "name": "python3"
    },
    "language_info": {
      "codemirror_mode": {
        "name": "ipython",
        "version": 3
      },
      "file_extension": ".py",
      "mimetype": "text/x-python",
      "name": "python",
      "nbconvert_exporter": "python",
      "pygments_lexer": "ipython3",
      "version": "3.10.2"
    },
    "orig_nbformat": 4
  },
  "nbformat": 4,
  "nbformat_minor": 0
}
